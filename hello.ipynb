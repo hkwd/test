{
    "cells": [
        {
            "cell_type": "code", 
            "source": "! echo \"hello world update\"", 
            "metadata": {}, 
            "outputs": [
                {
                    "output_type": "stream", 
                    "text": "hello world\r\n", 
                    "name": "stdout"
                }
            ], 
            "execution_count": 1
        }, 
        {
            "cell_type": "code", 
            "source": "", 
            "metadata": {
                "collapsed": true
            }, 
            "outputs": [], 
            "execution_count": null
        }
    ], 
    "nbformat": 4, 
    "metadata": {
        "kernelspec": {
            "language": "python", 
            "name": "python2-spark21", 
            "display_name": "Python 2 with Spark 2.1"
        }, 
        "language_info": {
            "file_extension": ".py", 
            "codemirror_mode": {
                "version": 2, 
                "name": "ipython"
            }, 
            "pygments_lexer": "ipython2", 
            "version": "2.7.11", 
            "nbconvert_exporter": "python", 
            "mimetype": "text/x-python", 
            "name": "python"
        }
    }, 
    "nbformat_minor": 1
}