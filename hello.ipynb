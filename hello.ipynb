{
    "cells": [
        {
            "cell_type": "code", 
            "source": "! echo \"hello world updated\"", 
            "metadata": {}, 
            "execution_count": 1, 
            "outputs": [
                {
                    "output_type": "stream", 
                    "text": "hello world\r\n", 
                    "name": "stdout"
                }
            ]
        }, 
        {
            "cell_type": "code", 
            "source": "!date", 
            "metadata": {
                "collapsed": true
            }, 
            "execution_count": null, 
            "outputs": []
        }, 
        {
            "cell_type": "code", 
            "source": "!ls", 
            "metadata": {}, 
            "execution_count": 1, 
            "outputs": [
                {
                    "output_type": "stream", 
                    "text": "a.txt\t\t\t       GoSales_Tx_NaiveBayes (6).csv\r\nchurn.csv\t\t       GoSales_Tx_NaiveBayes (7).csv\r\nCodeIQ_auth.txt\t\t       GoSales_Tx_NaiveBayes.csv\r\nCodeIQ_data.txt\t\t       graph.pdf\r\nCodeIQ_eaten.txt\t       IntroToNotebooks.mortgageDefaultModel\r\nCodeIQ_mycoins.txt\t       MNIST_data\r\ncustomer.csv\t\t       randomTrees_pmml.xml\r\nGoSales_Tx_NaiveBayes (1).csv  sampletranDEPT4enL.csv\r\nGoSales_Tx_NaiveBayes (2).csv  StatXML.xml\r\nGoSales_Tx_NaiveBayes (3).csv  telco.csv\r\nGoSales_Tx_NaiveBayes (4).csv  telco_Feb.csv\r\nGoSales_Tx_NaiveBayes (5).csv\r\n", 
                    "name": "stdout"
                }
            ]
        }, 
        {
            "cell_type": "code", 
            "source": "!pwd", 
            "metadata": {}, 
            "execution_count": 2, 
            "outputs": [
                {
                    "output_type": "stream", 
                    "text": "/gpfs/fs01/user/s667-8fae584a3b39f4-5147b70cdd19/notebook/work\r\n", 
                    "name": "stdout"
                }
            ]
        }, 
        {
            "cell_type": "code", 
            "source": "", 
            "metadata": {
                "collapsed": true
            }, 
            "execution_count": null, 
            "outputs": []
        }
    ], 
    "nbformat": 4, 
    "metadata": {
        "kernelspec": {
            "language": "python", 
            "name": "python2-spark21", 
            "display_name": "Python 2 with Spark 2.1"
        }, 
        "language_info": {
            "file_extension": ".py", 
            "codemirror_mode": {
                "version": 2, 
                "name": "ipython"
            }, 
            "pygments_lexer": "ipython2", 
            "version": "2.7.11", 
            "nbconvert_exporter": "python", 
            "mimetype": "text/x-python", 
            "name": "python"
        }
    }, 
    "nbformat_minor": 1
}
